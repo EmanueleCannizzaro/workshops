{
 "cells": [
  {
   "cell_type": "markdown",
   "metadata": {},
   "source": [
    "# Intro to Deep Learning with Keras\n",
    "### Solution Code\n",
    "* **PyData Bristol - 4th Meetup:** https://www.meetup.com/PyData-Bristol/events/253608445/\n",
    "* **Event URL:** https://www.eventbrite.co.uk/e/intro-to-deep-learning-with-keras-tickets-50326043551\n",
    "* **Date:** Thu 20th September 2018\n",
    "* **Instructor:** John Sandall\n",
    "* **Contact:** john@coefficient.ai / @john_sandall\n",
    "\n",
    "---"
   ]
  },
  {
   "cell_type": "code",
   "execution_count": 1,
   "metadata": {},
   "outputs": [],
   "source": [
    "# Imports\n",
    "import matplotlib.pyplot as plt\n",
    "import numpy as np\n",
    "import pandas as pd\n",
    "from pathlib import Path\n",
    "import seaborn as sns\n",
    "from sklearn import datasets, ensemble, linear_model, model_selection, neighbors, metrics, preprocessing, neural_network\n",
    "import warnings\n",
    "\n",
    "%matplotlib inline\n",
    "warnings.filterwarnings('ignore')\n",
    "np.random.seed(0)"
   ]
  },
  {
   "cell_type": "markdown",
   "metadata": {},
   "source": [
    "## Lab: Multi-Layer Perceptron\n",
    "### The MNIST Dataset\n",
    "![MNIST](https://upload.wikimedia.org/wikipedia/commons/2/27/MnistExamples.png)\n",
    "\n",
    "From [Wikipedia](https://en.wikipedia.org/wiki/MNIST_database):\n",
    "> The MNIST database (Modified National Institute of Standards and Technology database) is a large database of handwritten digits that is commonly used for training various image processing systems. The database is also widely used for training and testing in the field of machine learning.\n",
    "\n",
    "From [OpenML](https://www.openml.org/d/554) (the source for this specific data):\n",
    "> The MNIST database of handwritten digits with 784 features, raw data available at: http://yann.lecun.com/exdb/mnist/. It can be split in a training set of the first 60,000 examples, and a test set of 10,000 examples "
   ]
  },
  {
   "cell_type": "code",
   "execution_count": 2,
   "metadata": {},
   "outputs": [
    {
     "name": "stderr",
     "output_type": "stream",
     "text": [
      "Using TensorFlow backend.\n"
     ]
    }
   ],
   "source": [
    "from keras import datasets"
   ]
  },
  {
   "cell_type": "code",
   "execution_count": 3,
   "metadata": {},
   "outputs": [],
   "source": [
    "# Download MNIST via Keras (requires internet connection)\n",
    "(X_train, y_train), (X_test, y_test) = datasets.mnist.load_data()"
   ]
  },
  {
   "cell_type": "code",
   "execution_count": 4,
   "metadata": {},
   "outputs": [
    {
     "name": "stdout",
     "output_type": "stream",
     "text": [
      "X_train: (60000, 28, 28)\n",
      "X_test: (10000, 28, 28)\n",
      "y_train: (60000,)\n",
      "y_test: (10000,)\n",
      "One sample from X_train: (28, 28)\n"
     ]
    }
   ],
   "source": [
    "# What does this data look like?\n",
    "print(\"X_train:\", X_train.shape)\n",
    "print(\"X_test:\", X_test.shape)\n",
    "print(\"y_train:\", y_train.shape)\n",
    "print(\"y_test:\", y_test.shape)\n",
    "print(\"One sample from X_train:\", X_train[0].shape)"
   ]
  },
  {
   "cell_type": "code",
   "execution_count": 5,
   "metadata": {},
   "outputs": [
    {
     "name": "stdout",
     "output_type": "stream",
     "text": [
      "Class = 0\n",
      "Class = 4\n"
     ]
    },
    {
     "data": {
      "text/plain": [
       "<matplotlib.image.AxesImage at 0x10fa7d160>"
      ]
     },
     "execution_count": 5,
     "metadata": {},
     "output_type": "execute_result"
    },
    {
     "data": {
      "image/png": "[encoded data removed]",
      "text/plain": [
       "<Figure size 288x288 with 1 Axes>"
      ]
     },
     "metadata": {},
     "output_type": "display_data"
    },
    {
     "data": {
      "image/png": "[encoded data removed]",
      "text/plain": [
       "<Figure size 288x288 with 1 Axes>"
      ]
     },
     "metadata": {},
     "output_type": "display_data"
    }
   ],
   "source": [
    "# Visualise some samples\n",
    "print(\"Class =\", y_train[1])\n",
    "plt.matshow(X_train[1], cmap=plt.cm.gray)\n",
    "\n",
    "print(\"Class =\", y_train[2])\n",
    "plt.matshow(X_train[2], cmap=plt.cm.gray)"
   ]
  },
  {
   "cell_type": "code",
   "execution_count": 6,
   "metadata": {},
   "outputs": [
    {
     "data": {
      "text/plain": [
       "array([[  0,   0,   0,   0,   0,   0,   0,   0,   0,   0,   0,   0,   0,\n",
       "          0,   0,   0,   0,   0,   0,   0,   0,   0,   0,   0,   0,   0,\n",
       "          0,   0],\n",
       "       [  0,   0,   0,   0,   0,   0,   0,   0,   0,   0,   0,   0,   0,\n",
       "          0,   0,   0,   0,   0,   0,   0,   0,   0,   0,   0,   0,   0,\n",
       "          0,   0],\n",
       "       [  0,   0,   0,   0,   0,   0,   0,   0,   0,   0,   0,   0,   0,\n",
       "          0,   0,   0,   0,   0,   0,   0,   0,   0,   0,   0,   0,   0,\n",
       "          0,   0],\n",
       "       [  0,   0,   0,   0,   0,   0,   0,   0,   0,   0,   0,   0,   0,\n",
       "          0,   0,   0,   0,   0,   0,   0,   0,   0,   0,   0,   0,   0,\n",
       "          0,   0],\n",
       "       [  0,   0,   0,   0,   0,   0,   0,   0,   0,   0,   0,   0,   0,\n",
       "          0,   0,   0,   0,   0,   0,   0,   0,   0,   0,   0,   0,   0,\n",
       "          0,   0],\n",
       "       [  0,   0,   0,   0,   0,   0,   0,   0,   0,   0,   0,   0,   3,\n",
       "         18,  18,  18, 126, 136, 175,  26, 166, 255, 247, 127,   0,   0,\n",
       "          0,   0],\n",
       "       [  0,   0,   0,   0,   0,   0,   0,   0,  30,  36,  94, 154, 170,\n",
       "        253, 253, 253, 253, 253, 225, 172, 253, 242, 195,  64,   0,   0,\n",
       "          0,   0],\n",
       "       [  0,   0,   0,   0,   0,   0,   0,  49, 238, 253, 253, 253, 253,\n",
       "        253, 253, 253, 253, 251,  93,  82,  82,  56,  39,   0,   0,   0,\n",
       "          0,   0],\n",
       "       [  0,   0,   0,   0,   0,   0,   0,  18, 219, 253, 253, 253, 253,\n",
       "        253, 198, 182, 247, 241,   0,   0,   0,   0,   0,   0,   0,   0,\n",
       "          0,   0],\n",
       "       [  0,   0,   0,   0,   0,   0,   0,   0,  80, 156, 107, 253, 253,\n",
       "        205,  11,   0,  43, 154,   0,   0,   0,   0,   0,   0,   0,   0,\n",
       "          0,   0],\n",
       "       [  0,   0,   0,   0,   0,   0,   0,   0,   0,  14,   1, 154, 253,\n",
       "         90,   0,   0,   0,   0,   0,   0,   0,   0,   0,   0,   0,   0,\n",
       "          0,   0],\n",
       "       [  0,   0,   0,   0,   0,   0,   0,   0,   0,   0,   0, 139, 253,\n",
       "        190,   2,   0,   0,   0,   0,   0,   0,   0,   0,   0,   0,   0,\n",
       "          0,   0],\n",
       "       [  0,   0,   0,   0,   0,   0,   0,   0,   0,   0,   0,  11, 190,\n",
       "        253,  70,   0,   0,   0,   0,   0,   0,   0,   0,   0,   0,   0,\n",
       "          0,   0],\n",
       "       [  0,   0,   0,   0,   0,   0,   0,   0,   0,   0,   0,   0,  35,\n",
       "        241, 225, 160, 108,   1,   0,   0,   0,   0,   0,   0,   0,   0,\n",
       "          0,   0],\n",
       "       [  0,   0,   0,   0,   0,   0,   0,   0,   0,   0,   0,   0,   0,\n",
       "         81, 240, 253, 253, 119,  25,   0,   0,   0,   0,   0,   0,   0,\n",
       "          0,   0],\n",
       "       [  0,   0,   0,   0,   0,   0,   0,   0,   0,   0,   0,   0,   0,\n",
       "          0,  45, 186, 253, 253, 150,  27,   0,   0,   0,   0,   0,   0,\n",
       "          0,   0],\n",
       "       [  0,   0,   0,   0,   0,   0,   0,   0,   0,   0,   0,   0,   0,\n",
       "          0,   0,  16,  93, 252, 253, 187,   0,   0,   0,   0,   0,   0,\n",
       "          0,   0],\n",
       "       [  0,   0,   0,   0,   0,   0,   0,   0,   0,   0,   0,   0,   0,\n",
       "          0,   0,   0,   0, 249, 253, 249,  64,   0,   0,   0,   0,   0,\n",
       "          0,   0],\n",
       "       [  0,   0,   0,   0,   0,   0,   0,   0,   0,   0,   0,   0,   0,\n",
       "          0,  46, 130, 183, 253, 253, 207,   2,   0,   0,   0,   0,   0,\n",
       "          0,   0],\n",
       "       [  0,   0,   0,   0,   0,   0,   0,   0,   0,   0,   0,   0,  39,\n",
       "        148, 229, 253, 253, 253, 250, 182,   0,   0,   0,   0,   0,   0,\n",
       "          0,   0],\n",
       "       [  0,   0,   0,   0,   0,   0,   0,   0,   0,   0,  24, 114, 221,\n",
       "        253, 253, 253, 253, 201,  78,   0,   0,   0,   0,   0,   0,   0,\n",
       "          0,   0],\n",
       "       [  0,   0,   0,   0,   0,   0,   0,   0,  23,  66, 213, 253, 253,\n",
       "        253, 253, 198,  81,   2,   0,   0,   0,   0,   0,   0,   0,   0,\n",
       "          0,   0],\n",
       "       [  0,   0,   0,   0,   0,   0,  18, 171, 219, 253, 253, 253, 253,\n",
       "        195,  80,   9,   0,   0,   0,   0,   0,   0,   0,   0,   0,   0,\n",
       "          0,   0],\n",
       "       [  0,   0,   0,   0,  55, 172, 226, 253, 253, 253, 253, 244, 133,\n",
       "         11,   0,   0,   0,   0,   0,   0,   0,   0,   0,   0,   0,   0,\n",
       "          0,   0],\n",
       "       [  0,   0,   0,   0, 136, 253, 253, 253, 212, 135, 132,  16,   0,\n",
       "          0,   0,   0,   0,   0,   0,   0,   0,   0,   0,   0,   0,   0,\n",
       "          0,   0],\n",
       "       [  0,   0,   0,   0,   0,   0,   0,   0,   0,   0,   0,   0,   0,\n",
       "          0,   0,   0,   0,   0,   0,   0,   0,   0,   0,   0,   0,   0,\n",
       "          0,   0],\n",
       "       [  0,   0,   0,   0,   0,   0,   0,   0,   0,   0,   0,   0,   0,\n",
       "          0,   0,   0,   0,   0,   0,   0,   0,   0,   0,   0,   0,   0,\n",
       "          0,   0],\n",
       "       [  0,   0,   0,   0,   0,   0,   0,   0,   0,   0,   0,   0,   0,\n",
       "          0,   0,   0,   0,   0,   0,   0,   0,   0,   0,   0,   0,   0,\n",
       "          0,   0]], dtype=uint8)"
      ]
     },
     "execution_count": 6,
     "metadata": {},
     "output_type": "execute_result"
    }
   ],
   "source": [
    "# Let's look at a single sample\n",
    "X_train[0]"
   ]
  },
  {
   "cell_type": "code",
   "execution_count": 7,
   "metadata": {},
   "outputs": [
    {
     "name": "stdout",
     "output_type": "stream",
     "text": [
      "(28, 28)\n",
      "(784,)\n"
     ]
    }
   ],
   "source": [
    "# This needs to be flattened before we can feed it into sklearn's MLPClassifier\n",
    "X_train_flat = np.array([elt.reshape(784,) for elt in X_train])\n",
    "X_test_flat = np.array([elt.reshape(784,) for elt in X_test])\n",
    "print(X_train[0].shape)\n",
    "print(X_train_flat[0].shape)"
   ]
  },
  {
   "cell_type": "markdown",
   "metadata": {},
   "source": [
    "### Train a multi-layer perceptron in scikit-learn"
   ]
  },
  {
   "cell_type": "code",
   "execution_count": 8,
   "metadata": {},
   "outputs": [
    {
     "name": "stdout",
     "output_type": "stream",
     "text": [
      "Iteration 1, loss = 88770.19492622\n",
      "Iteration 2, loss = 94144.72785948\n",
      "Iteration 3, loss = 94116.48942606\n",
      "Iteration 4, loss = 94088.25915097\n",
      "Training loss did not improve more than tol=0.000100 for two consecutive epochs. Stopping.\n",
      "Training set score: 0.112367\n",
      "Test set score: 0.113500\n"
     ]
    }
   ],
   "source": [
    "# Fit a basic model\n",
    "mlp = neural_network.MLPClassifier(hidden_layer_sizes=(50,), max_iter=10, alpha=1e-4,\n",
    "                    solver='sgd', verbose=10, tol=1e-4, random_state=1,\n",
    "                    learning_rate_init=.1)\n",
    "mlp.fit(X_train_flat, y_train)\n",
    "print(\"Training set score: %f\" % mlp.score(X_train_flat, y_train))\n",
    "print(\"Test set score: %f\" % mlp.score(X_test_flat, y_test))"
   ]
  },
  {
   "cell_type": "code",
   "execution_count": 9,
   "metadata": {},
   "outputs": [
    {
     "name": "stdout",
     "output_type": "stream",
     "text": [
      "Hidden layer: (784, 50)\n",
      "Output layer: (50, 10)\n"
     ]
    }
   ],
   "source": [
    "# What do the coefficients look like?\n",
    "print(\"Hidden layer:\", mlp.coefs_[0].shape)\n",
    "print(\"Output layer:\", mlp.coefs_[1].shape)"
   ]
  },
  {
   "cell_type": "code",
   "execution_count": 10,
   "metadata": {},
   "outputs": [
    {
     "data": {
      "text/plain": [
       "<matplotlib.image.AxesImage at 0x1a319c6080>"
      ]
     },
     "execution_count": 10,
     "metadata": {},
     "output_type": "execute_result"
    },
    {
     "data": {
      "image/png": "[encoded data removed]",
      "text/plain": [
       "<Figure size 288x288 with 1 Axes>"
      ]
     },
     "metadata": {},
     "output_type": "display_data"
    },
    {
     "data": {
      "image/png": "[encoded data removed]",
      "text/plain": [
       "<Figure size 288x288 with 1 Axes>"
      ]
     },
     "metadata": {},
     "output_type": "display_data"
    },
    {
     "data": {
      "image/png": "[encoded data removed]",
      "text/plain": [
       "<Figure size 288x288 with 1 Axes>"
      ]
     },
     "metadata": {},
     "output_type": "display_data"
    }
   ],
   "source": [
    "# There are 50 of these \"weight matrices\", each specialising in enhancing signal from certain shapes/areas.\n",
    "# Here are first few.\n",
    "plt.matshow(mlp.coefs_[0][:,1].reshape(28,28))\n",
    "plt.matshow(mlp.coefs_[0][:,2].reshape(28,28))\n",
    "plt.matshow(mlp.coefs_[0][:,3].reshape(28,28))"
   ]
  },
  {
   "cell_type": "code",
   "execution_count": 11,
   "metadata": {},
   "outputs": [
    {
     "name": "stdout",
     "output_type": "stream",
     "text": [
      "Iteration 1, loss = 2.78019142\n",
      "Iteration 2, loss = 2.05903847\n",
      "Iteration 3, loss = 1.83975622\n",
      "Iteration 4, loss = 1.63369531\n",
      "Iteration 5, loss = 1.43538198\n",
      "Iteration 6, loss = 1.37235283\n",
      "Iteration 7, loss = 1.33507616\n",
      "Iteration 8, loss = 1.31028038\n",
      "Iteration 9, loss = 1.28911785\n",
      "Iteration 10, loss = 1.25762240\n",
      "Iteration 11, loss = 1.20838550\n",
      "Iteration 12, loss = 1.14104039\n",
      "Iteration 13, loss = 1.07083018\n",
      "Iteration 14, loss = 0.99207111\n",
      "Iteration 15, loss = 0.93662612\n",
      "Iteration 16, loss = 0.90248672\n",
      "Iteration 17, loss = 0.87662723\n",
      "Iteration 18, loss = 0.85567538\n",
      "Iteration 19, loss = 0.84098512\n",
      "Iteration 20, loss = 0.82903642\n",
      "Iteration 21, loss = 0.81932746\n",
      "Iteration 22, loss = 0.80374098\n",
      "Iteration 23, loss = 0.78816127\n",
      "Iteration 24, loss = 0.77450312\n",
      "Iteration 25, loss = 0.76497822\n",
      "Iteration 26, loss = 0.75699685\n",
      "Iteration 27, loss = 0.75168843\n",
      "Iteration 28, loss = 0.74546723\n",
      "Iteration 29, loss = 0.72781397\n",
      "Iteration 30, loss = 0.70740627\n",
      "Iteration 31, loss = 0.69675634\n",
      "Iteration 32, loss = 0.68774868\n",
      "Iteration 33, loss = 0.68122275\n",
      "Iteration 34, loss = 0.67493452\n",
      "Iteration 35, loss = 0.67049424\n",
      "Iteration 36, loss = 0.66623202\n",
      "Iteration 37, loss = 0.66426799\n",
      "Iteration 38, loss = 0.66039229\n",
      "Iteration 39, loss = 0.65651058\n",
      "Iteration 40, loss = 0.65493351\n",
      "Iteration 41, loss = 0.65276598\n",
      "Iteration 42, loss = 0.65792770\n",
      "Iteration 43, loss = 0.65161513\n",
      "Iteration 44, loss = 0.64881095\n",
      "Iteration 45, loss = 0.64865144\n",
      "Iteration 46, loss = 0.64593821\n",
      "Iteration 47, loss = 0.64253183\n",
      "Iteration 48, loss = 0.64629162\n",
      "Iteration 49, loss = 0.64001201\n",
      "Iteration 50, loss = 0.63999807\n",
      "Iteration 51, loss = 0.63513373\n",
      "Iteration 52, loss = 0.63574237\n",
      "Iteration 53, loss = 0.63179741\n",
      "Iteration 54, loss = 0.62895984\n",
      "Iteration 55, loss = 0.62742236\n",
      "Iteration 56, loss = 0.62483174\n",
      "Iteration 57, loss = 0.62385248\n",
      "Iteration 58, loss = 0.62092863\n",
      "Iteration 59, loss = 0.62082349\n",
      "Iteration 60, loss = 0.62272402\n",
      "Iteration 61, loss = 0.61827847\n",
      "Iteration 62, loss = 0.61464114\n",
      "Iteration 63, loss = 0.61166785\n",
      "Iteration 64, loss = 0.61172934\n",
      "Iteration 65, loss = 0.60732064\n",
      "Iteration 66, loss = 0.60691286\n",
      "Iteration 67, loss = 0.60526185\n",
      "Iteration 68, loss = 0.59614656\n",
      "Iteration 69, loss = 0.59307029\n",
      "Iteration 70, loss = 0.53246145\n",
      "Iteration 71, loss = 0.49336594\n",
      "Iteration 72, loss = 0.47837298\n",
      "Iteration 73, loss = 0.46530837\n",
      "Iteration 74, loss = 0.46167818\n",
      "Iteration 75, loss = 0.45752728\n",
      "Iteration 76, loss = 0.44815187\n",
      "Iteration 77, loss = 0.44450751\n",
      "Iteration 78, loss = 0.44314970\n",
      "Iteration 79, loss = 0.44087837\n",
      "Iteration 80, loss = 0.43659857\n",
      "Iteration 81, loss = 0.43355172\n",
      "Iteration 82, loss = 0.43453564\n",
      "Iteration 83, loss = 0.43199908\n",
      "Iteration 84, loss = 0.42940789\n",
      "Iteration 85, loss = 0.42820296\n",
      "Iteration 86, loss = 0.42865623\n",
      "Iteration 87, loss = 0.42437592\n",
      "Iteration 88, loss = 0.42654736\n",
      "Iteration 89, loss = 0.42092034\n",
      "Iteration 90, loss = 0.42131276\n",
      "Iteration 91, loss = 0.42250573\n",
      "Iteration 92, loss = 0.41868240\n",
      "Iteration 93, loss = 0.41789157\n",
      "Iteration 94, loss = 0.41786818\n",
      "Iteration 95, loss = 0.41692943\n",
      "Iteration 96, loss = 0.41449926\n",
      "Iteration 97, loss = 0.41458577\n",
      "Iteration 98, loss = 0.41196021\n",
      "Iteration 99, loss = 0.41170388\n",
      "Iteration 100, loss = 0.41215886\n",
      "Iteration 101, loss = 0.41111586\n",
      "Iteration 102, loss = 0.41072841\n",
      "Iteration 103, loss = 0.40676751\n",
      "Iteration 104, loss = 0.40703394\n",
      "Iteration 105, loss = 0.40589448\n",
      "Iteration 106, loss = 0.40621198\n",
      "Iteration 107, loss = 0.40538506\n",
      "Iteration 108, loss = 0.40562965\n",
      "Iteration 109, loss = 0.40310685\n",
      "Iteration 110, loss = 0.40532840\n",
      "Iteration 111, loss = 0.40361116\n",
      "Iteration 112, loss = 0.40515531\n",
      "Training loss did not improve more than tol=0.000100 for two consecutive epochs. Stopping.\n"
     ]
    },
    {
     "data": {
      "text/plain": [
       "MLPClassifier(activation='relu', alpha=0.0001, batch_size='auto', beta_1=0.9,\n",
       "       beta_2=0.999, early_stopping=False, epsilon=1e-08,\n",
       "       hidden_layer_sizes=(100, 100), learning_rate='constant',\n",
       "       learning_rate_init=0.001, max_iter=400, momentum=0.9,\n",
       "       nesterovs_momentum=True, power_t=0.5, random_state=1, shuffle=True,\n",
       "       solver='sgd', tol=0.0001, validation_fraction=0.1, verbose=10,\n",
       "       warm_start=False)"
      ]
     },
     "execution_count": 11,
     "metadata": {},
     "output_type": "execute_result"
    }
   ],
   "source": [
    "# Fit a deep neural network with two hidden layers (both with 100 neurons)\n",
    "# WARNING: Takes a while! scikit-learn really isn't designed for this kind of work!\n",
    "mlp = neural_network.MLPClassifier(hidden_layer_sizes=(100, 100), max_iter=400, alpha=1e-4,\n",
    "                    solver='sgd', verbose=10, tol=1e-4, random_state=1)\n",
    "mlp.fit(X_train_flat, y_train)"
   ]
  },
  {
   "cell_type": "code",
   "execution_count": 12,
   "metadata": {},
   "outputs": [
    {
     "name": "stdout",
     "output_type": "stream",
     "text": [
      "Training set score: 0.879683\n",
      "Test set score: 0.879200\n"
     ]
    }
   ],
   "source": [
    "print(\"Training set score: %f\" % mlp.score(X_train_flat, y_train))\n",
    "print(\"Test set score: %f\" % mlp.score(X_test_flat, y_test))"
   ]
  },
  {
   "cell_type": "code",
   "execution_count": 13,
   "metadata": {},
   "outputs": [
    {
     "name": "stdout",
     "output_type": "stream",
     "text": [
      "Hidden layer #1: (784, 100)\n",
      "Hidden layer #2: (100, 100)\n",
      "Output layer: (100, 10)\n"
     ]
    },
    {
     "data": {
      "text/plain": [
       "<matplotlib.image.AxesImage at 0x1a315bd438>"
      ]
     },
     "execution_count": 13,
     "metadata": {},
     "output_type": "execute_result"
    },
    {
     "data": {
      "image/png": "[encoded data removed]",
      "text/plain": [
       "<Figure size 288x288 with 1 Axes>"
      ]
     },
     "metadata": {},
     "output_type": "display_data"
    },
    {
     "data": {
      "image/png": "[encoded data removed]",
      "text/plain": [
       "<Figure size 288x288 with 1 Axes>"
      ]
     },
     "metadata": {},
     "output_type": "display_data"
    },
    {
     "data": {
      "image/png": "[encoded data removed]",
      "text/plain": [
       "<Figure size 288x288 with 1 Axes>"
      ]
     },
     "metadata": {},
     "output_type": "display_data"
    }
   ],
   "source": [
    "# What do the coefficients look like?\n",
    "print(\"Hidden layer #1:\", mlp.coefs_[0].shape)\n",
    "print(\"Hidden layer #2:\", mlp.coefs_[1].shape)\n",
    "print(\"Output layer:\", mlp.coefs_[2].shape)\n",
    "\n",
    "# Look at some of the weight matrices in the first and second layer.\n",
    "plt.matshow(mlp.coefs_[0][:,1].reshape(28,28))\n",
    "plt.matshow(mlp.coefs_[0][:,2].reshape(28,28))\n",
    "plt.matshow(mlp.coefs_[1])"
   ]
  },
  {
   "cell_type": "code",
   "execution_count": 14,
   "metadata": {},
   "outputs": [
    {
     "name": "stdout",
     "output_type": "stream",
     "text": [
      "Predicted class: 7\n",
      "Predicted probabilities: [0.0, 0.0, 0.0001, 0.0002, 0.0, 0.0, 0.0, 0.9995, 0.0, 0.0002]\n"
     ]
    },
    {
     "data": {
      "text/plain": [
       "<matplotlib.image.AxesImage at 0x1105ff668>"
      ]
     },
     "execution_count": 14,
     "metadata": {},
     "output_type": "execute_result"
    },
    {
     "data": {
      "image/png": "[encoded data removed]",
      "text/plain": [
       "<Figure size 288x288 with 1 Axes>"
      ]
     },
     "metadata": {},
     "output_type": "display_data"
    }
   ],
   "source": [
    "# Visualise and predict for one of the test set classes\n",
    "print(\"Predicted class:\", mlp.predict(X_test_flat[:1])[0])\n",
    "print(\"Predicted probabilities:\", [round(x, 4) for x in mlp.predict_proba(X_test_flat[:1])[0]])\n",
    "plt.matshow(X_test[0])"
   ]
  },
  {
   "cell_type": "code",
   "execution_count": 15,
   "metadata": {},
   "outputs": [
    {
     "data": {
      "image/png": "[encoded data removed]",
      "text/plain": [
       "<Figure size 432x288 with 2 Axes>"
      ]
     },
     "metadata": {},
     "output_type": "display_data"
    }
   ],
   "source": [
    "# Visualise confusion matrix\n",
    "# Adapted from sklearn example code:\n",
    "# http://scikit-learn.org/stable/auto_examples/model_selection/plot_confusion_matrix.html\n",
    "import itertools\n",
    "\n",
    "\n",
    "def plot_confusion_matrix(cm, classes):\n",
    "    \"\"\"\n",
    "    This function prints and plots the confusion matrix.\n",
    "    \"\"\"\n",
    "    plt.imshow(cm, interpolation='nearest', cmap=plt.cm.Blues)\n",
    "    plt.title('Confusion matrix')\n",
    "    plt.colorbar()\n",
    "    tick_marks = np.arange(len(classes))\n",
    "    plt.xticks(tick_marks, classes, rotation=45)\n",
    "    plt.yticks(tick_marks, classes)\n",
    "\n",
    "    thresh = cm.max() / 2.\n",
    "    for i, j in itertools.product(range(cm.shape[0]), range(cm.shape[1])):\n",
    "        plt.text(j, i, format(cm[i, j], 'd'),\n",
    "                 horizontalalignment=\"center\",\n",
    "                 color=\"white\" if cm[i, j] > thresh else \"black\")\n",
    "\n",
    "    plt.tight_layout()\n",
    "    plt.ylabel('True label')\n",
    "    plt.xlabel('Predicted label')\n",
    "\n",
    "cm = metrics.confusion_matrix(y_test, mlp.predict(X_test_flat))\n",
    "plot_confusion_matrix(cm, classes=range(10))\n",
    "\n",
    "# 5 is often confused with 8, as is 4/9, and 3/5."
   ]
  },
  {
   "cell_type": "markdown",
   "metadata": {},
   "source": [
    "---"
   ]
  },
  {
   "cell_type": "markdown",
   "metadata": {},
   "source": [
    "## Lab: Build a MLP in Keras"
   ]
  },
  {
   "cell_type": "code",
   "execution_count": 16,
   "metadata": {},
   "outputs": [],
   "source": [
    "from keras.callbacks import EarlyStopping, TensorBoard, ModelCheckpoint, LearningRateScheduler\n",
    "from keras.models import Sequential, Model, load_model, model_from_json, model_from_yaml, save_model\n",
    "from keras.layers import Input, Dense, Activation, BatchNormalization\n",
    "from keras import initializers, optimizers, utils"
   ]
  },
  {
   "cell_type": "code",
   "execution_count": 17,
   "metadata": {},
   "outputs": [
    {
     "name": "stdout",
     "output_type": "stream",
     "text": [
      "[name: \"/device:CPU:0\"\n",
      "device_type: \"CPU\"\n",
      "memory_limit: 268435456\n",
      "locality {\n",
      "}\n",
      "incarnation: 4412260548765055454\n",
      "]\n"
     ]
    }
   ],
   "source": [
    "# Check if Keras is using GPU version of TensorFlow\n",
    "from tensorflow.python.client import device_lib\n",
    "\n",
    "print(device_lib.list_local_devices())"
   ]
  },
  {
   "cell_type": "markdown",
   "metadata": {},
   "source": [
    "> #### Exercise: Create a `Sequential()` MLP with:\n",
    "> - One hidden layer containing 50-neurons that accepts the flattened MNIST data as input (i.e. vector of length 784) + ReLU activation.\n",
    "> - One 10-class output layer with Softmax activation.\n",
    "> - Assign this to a variable called `model`."
   ]
  },
  {
   "cell_type": "code",
   "execution_count": 18,
   "metadata": {},
   "outputs": [],
   "source": [
    "# Define\n",
    "model = Sequential([\n",
    "    Dense(units=50, input_shape=(784,)),\n",
    "    Activation('relu'),\n",
    "    Dense(10),\n",
    "    Activation('softmax'),\n",
    "])"
   ]
  },
  {
   "cell_type": "markdown",
   "metadata": {},
   "source": [
    "> #### Exercise: Compile `model` using `sgd` optimizer, `categorical_crossentropy` loss, and `accuracy` metric.\n",
    "> Cross-entropy aims to penalise models that estimate a low probability for the target class. For more intuition on how cross-entropy works, see https://www.quora.com/Whats-an-intuitive-way-to-think-of-cross-entropy"
   ]
  },
  {
   "cell_type": "code",
   "execution_count": 19,
   "metadata": {},
   "outputs": [],
   "source": [
    "# Compile\n",
    "model.compile(optimizer='sgd', loss='categorical_crossentropy', metrics=['accuracy'])"
   ]
  },
  {
   "cell_type": "markdown",
   "metadata": {},
   "source": [
    "> #### Exercise: Fit the compiled model to `X_train_flat` and `y_train` using 1 epoch and a `batch_size` of 32. How does the accuracy result compare to the 50-neuron MLP from sklearn?"
   ]
  },
  {
   "cell_type": "code",
   "execution_count": 20,
   "metadata": {},
   "outputs": [],
   "source": [
    "# If you don't have a GPU you may wish to reduce the dataset for expedience. Otherwise leave this commented out.\n",
    "# X_train = X_train[:10000]\n",
    "# X_train_flat = X_train_flat[:10000]\n",
    "# y_train = y_train[:10000]\n",
    "\n",
    "# Convert labels to categorical one-hot encoding\n",
    "y_train_encoded = utils.to_categorical(y_train, num_classes=10)\n",
    "y_test_encoded = utils.to_categorical(y_test, num_classes=10)"
   ]
  },
  {
   "cell_type": "code",
   "execution_count": 21,
   "metadata": {},
   "outputs": [
    {
     "name": "stdout",
     "output_type": "stream",
     "text": [
      "Epoch 1/10\n",
      "60000/60000 [==============================] - 4s 60us/step - loss: 14.3071 - acc: 0.1123\n",
      "Epoch 2/10\n",
      "60000/60000 [==============================] - 4s 59us/step - loss: 14.3070 - acc: 0.1124\n",
      "Epoch 3/10\n",
      "60000/60000 [==============================] - 3s 54us/step - loss: 14.3070 - acc: 0.1124\n",
      "Epoch 4/10\n",
      "60000/60000 [==============================] - 4s 64us/step - loss: 14.3070 - acc: 0.1124\n",
      "Epoch 5/10\n",
      "60000/60000 [==============================] - 3s 53us/step - loss: 14.3070 - acc: 0.1124\n",
      "Epoch 6/10\n",
      "60000/60000 [==============================] - 3s 46us/step - loss: 14.3070 - acc: 0.1124\n",
      "Epoch 7/10\n",
      "60000/60000 [==============================] - 3s 54us/step - loss: 14.3070 - acc: 0.1124\n",
      "Epoch 8/10\n",
      "60000/60000 [==============================] - 3s 52us/step - loss: 14.3070 - acc: 0.1124\n",
      "Epoch 9/10\n",
      "60000/60000 [==============================] - 4s 60us/step - loss: 14.3070 - acc: 0.1124\n",
      "Epoch 10/10\n",
      "60000/60000 [==============================] - 3s 58us/step - loss: 14.3070 - acc: 0.1124 0s - loss: 14.3046 -\n"
     ]
    },
    {
     "data": {
      "text/plain": [
       "<keras.callbacks.History at 0x1a319c69e8>"
      ]
     },
     "execution_count": 21,
     "metadata": {},
     "output_type": "execute_result"
    }
   ],
   "source": [
    "# Fit (this may take a while!)\n",
    "model.fit(X_train_flat, y_train_encoded, epochs=10, batch_size=32)"
   ]
  },
  {
   "cell_type": "code",
   "execution_count": 22,
   "metadata": {},
   "outputs": [
    {
     "name": "stdout",
     "output_type": "stream",
     "text": [
      "10000/10000 [==============================] - 0s 14us/step\n"
     ]
    },
    {
     "data": {
      "text/plain": [
       "[14.288694496154784, 0.1135]"
      ]
     },
     "execution_count": 22,
     "metadata": {},
     "output_type": "execute_result"
    }
   ],
   "source": [
    "score = model.evaluate(X_test_flat, y_test_encoded, batch_size=128)\n",
    "score"
   ]
  },
  {
   "cell_type": "markdown",
   "metadata": {},
   "source": [
    "> #### Exercise: Repeat for a DNN with two hidden layers with 100 neurons in each layer. How does this compare (in terms of both speed and accuracy) with the MLP DNN?\n",
    "> \n",
    "> **Tip!** This model is a lot more complex, you may want to run this for 50+ epochs."
   ]
  },
  {
   "cell_type": "code",
   "execution_count": 23,
   "metadata": {},
   "outputs": [
    {
     "name": "stdout",
     "output_type": "stream",
     "text": [
      "Epoch 1/50\n",
      "60000/60000 [==============================] - 5s 81us/step - loss: 14.4278 - acc: 0.1048\n",
      "Epoch 2/50\n",
      "60000/60000 [==============================] - 5s 83us/step - loss: 14.4351 - acc: 0.1044\n",
      "Epoch 3/50\n",
      "60000/60000 [==============================] - 5s 90us/step - loss: 14.4351 - acc: 0.1044\n",
      "Epoch 4/50\n",
      "60000/60000 [==============================] - 5s 91us/step - loss: 14.4351 - acc: 0.1044\n",
      "Epoch 5/50\n",
      "60000/60000 [==============================] - 5s 91us/step - loss: 14.4351 - acc: 0.1044\n",
      "Epoch 6/50\n",
      "60000/60000 [==============================] - 6s 95us/step - loss: 14.4351 - acc: 0.1044\n",
      "Epoch 7/50\n",
      "60000/60000 [==============================] - 5s 76us/step - loss: 14.4351 - acc: 0.1044ETA: 0s - loss:\n",
      "Epoch 8/50\n",
      "60000/60000 [==============================] - 7s 110us/step - loss: 14.4351 - acc: 0.1044\n",
      "Epoch 9/50\n",
      "60000/60000 [==============================] - 6s 93us/step - loss: 14.4351 - acc: 0.1044\n",
      "Epoch 10/50\n",
      "60000/60000 [==============================] - 7s 114us/step - loss: 14.4351 - acc: 0.10440s - loss: 14.4375 - acc: \n",
      "Epoch 11/50\n",
      "60000/60000 [==============================] - 7s 122us/step - loss: 14.4351 - acc: 0.1044\n",
      "Epoch 12/50\n",
      "60000/60000 [==============================] - 6s 97us/step - loss: 14.4351 - acc: 0.1044\n",
      "Epoch 13/50\n",
      "60000/60000 [==============================] - 6s 95us/step - loss: 14.4351 - acc: 0.1044\n",
      "Epoch 14/50\n",
      "60000/60000 [==============================] - 5s 90us/step - loss: 14.4351 - acc: 0.1044\n",
      "Epoch 15/50\n",
      "60000/60000 [==============================] - 6s 93us/step - loss: 14.4351 - acc: 0.1044\n",
      "Epoch 16/50\n",
      "60000/60000 [==============================] - 6s 101us/step - loss: 14.4351 - acc: 0.1044\n",
      "Epoch 17/50\n",
      "60000/60000 [==============================] - 5s 89us/step - loss: 14.4351 - acc: 0.1044\n",
      "Epoch 18/50\n",
      "60000/60000 [==============================] - 5s 89us/step - loss: 14.4351 - acc: 0.1044\n",
      "Epoch 19/50\n",
      "60000/60000 [==============================] - 5s 91us/step - loss: 14.4351 - acc: 0.1044\n",
      "Epoch 20/50\n",
      "60000/60000 [==============================] - 5s 88us/step - loss: 14.4351 - acc: 0.1044\n",
      "Epoch 21/50\n",
      "60000/60000 [==============================] - 7s 110us/step - loss: 14.4351 - acc: 0.1044\n",
      "Epoch 22/50\n",
      "60000/60000 [==============================] - 5s 86us/step - loss: 14.4351 - acc: 0.1044\n",
      "Epoch 23/50\n",
      "60000/60000 [==============================] - 5s 90us/step - loss: 14.4351 - acc: 0.1044\n",
      "Epoch 24/50\n",
      "60000/60000 [==============================] - 4s 63us/step - loss: 14.4351 - acc: 0.1044\n",
      "Epoch 25/50\n",
      "60000/60000 [==============================] - 5s 90us/step - loss: 14.4351 - acc: 0.1044\n",
      "Epoch 26/50\n",
      "60000/60000 [==============================] - 4s 64us/step - loss: 14.4351 - acc: 0.1044 0s - loss: 14.4378 - acc: 0.10 - ETA: 0s - loss: 14.4382 - a - ETA: 0s - l\n",
      "Epoch 27/50\n",
      "60000/60000 [==============================] - 4s 63us/step - loss: 14.4351 - acc: 0.1044\n",
      "Epoch 28/50\n",
      "60000/60000 [==============================] - 4s 62us/step - loss: 14.4351 - acc: 0.1044\n",
      "Epoch 29/50\n",
      "60000/60000 [==============================] - 4s 74us/step - loss: 14.4351 - acc: 0.1044\n",
      "Epoch 30/50\n",
      "60000/60000 [==============================] - 4s 65us/step - loss: 14.4351 - acc: 0.1044\n",
      "Epoch 31/50\n",
      "60000/60000 [==============================] - 4s 70us/step - loss: 14.4351 - acc: 0.1044\n",
      "Epoch 32/50\n",
      "60000/60000 [==============================] - 4s 60us/step - loss: 14.4351 - acc: 0.1044\n",
      "Epoch 33/50\n",
      "60000/60000 [==============================] - 4s 62us/step - loss: 14.4351 - acc: 0.1044\n",
      "Epoch 34/50\n",
      "60000/60000 [==============================] - 4s 63us/step - loss: 14.4351 - acc: 0.1044 0s - loss: 1\n",
      "Epoch 35/50\n",
      "60000/60000 [==============================] - 4s 66us/step - loss: 14.4351 - acc: 0.1044\n",
      "Epoch 36/50\n",
      "60000/60000 [==============================] - 5s 86us/step - loss: 14.4351 - acc: 0.1044\n",
      "Epoch 37/50\n",
      "60000/60000 [==============================] - 4s 65us/step - loss: 14.4351 - acc: 0.1044\n",
      "Epoch 38/50\n",
      "60000/60000 [==============================] - 4s 72us/step - loss: 14.4351 - acc: 0.1044\n",
      "Epoch 39/50\n",
      "60000/60000 [==============================] - 5s 78us/step - loss: 14.4351 - acc: 0.1044\n",
      "Epoch 40/50\n",
      "60000/60000 [==============================] - 5s 84us/step - loss: 14.4351 - acc: 0.1044\n",
      "Epoch 41/50\n",
      "60000/60000 [==============================] - 4s 59us/step - loss: 14.4351 - acc: 0.1044\n",
      "Epoch 42/50\n",
      "60000/60000 [==============================] - 3s 56us/step - loss: 14.4351 - acc: 0.1044\n",
      "Epoch 43/50\n",
      "60000/60000 [==============================] - 3s 57us/step - loss: 14.4351 - acc: 0.1044\n",
      "Epoch 44/50\n",
      "60000/60000 [==============================] - 4s 61us/step - loss: 14.4351 - acc: 0.1044\n",
      "Epoch 45/50\n",
      "60000/60000 [==============================] - 3s 58us/step - loss: 14.4351 - acc: 0.1044\n",
      "Epoch 46/50\n",
      "60000/60000 [==============================] - 3s 54us/step - loss: 14.4351 - acc: 0.1044\n",
      "Epoch 47/50\n",
      "60000/60000 [==============================] - 3s 57us/step - loss: 14.4351 - acc: 0.1044\n",
      "Epoch 48/50\n",
      "60000/60000 [==============================] - 4s 68us/step - loss: 14.4351 - acc: 0.1044\n",
      "Epoch 49/50\n",
      "60000/60000 [==============================] - 3s 57us/step - loss: 14.4351 - acc: 0.1044\n",
      "Epoch 50/50\n",
      "60000/60000 [==============================] - 3s 53us/step - loss: 14.4351 - acc: 0.1044\n"
     ]
    },
    {
     "data": {
      "text/plain": [
       "<keras.callbacks.History at 0x1a39168390>"
      ]
     },
     "execution_count": 23,
     "metadata": {},
     "output_type": "execute_result"
    }
   ],
   "source": [
    "# Define\n",
    "model = Sequential([\n",
    "    Dense(units=100, input_shape=(784,)),\n",
    "    Activation('relu'),\n",
    "    Dense(100),\n",
    "    Activation('relu'),\n",
    "    Dense(10),\n",
    "    Activation('softmax'),\n",
    "])\n",
    "model.compile(optimizer='sgd', loss='categorical_crossentropy', metrics=['accuracy'])\n",
    "model.fit(X_train_flat, y_train_encoded, epochs=50, batch_size=32)"
   ]
  },
  {
   "cell_type": "code",
   "execution_count": 24,
   "metadata": {},
   "outputs": [
    {
     "name": "stdout",
     "output_type": "stream",
     "text": [
      "10000/10000 [==============================] - 0s 13us/step\n"
     ]
    },
    {
     "data": {
      "text/plain": [
       "[14.461158160400391, 0.1028]"
      ]
     },
     "execution_count": 24,
     "metadata": {},
     "output_type": "execute_result"
    }
   ],
   "source": [
    "score = model.evaluate(X_test_flat, y_test_encoded, batch_size=128)\n",
    "score"
   ]
  },
  {
   "cell_type": "markdown",
   "metadata": {},
   "source": [
    "---"
   ]
  },
  {
   "cell_type": "markdown",
   "metadata": {},
   "source": [
    "## Lab: Convolutional Neural Networks in Keras"
   ]
  },
  {
   "cell_type": "code",
   "execution_count": 25,
   "metadata": {},
   "outputs": [],
   "source": [
    "from keras.layers import Conv2D, MaxPooling2D, Dropout, Flatten"
   ]
  },
  {
   "cell_type": "code",
   "execution_count": 26,
   "metadata": {},
   "outputs": [
    {
     "name": "stdout",
     "output_type": "stream",
     "text": [
      "x_train shape: (60000, 28, 28, 1)\n",
      "60000 train samples\n",
      "10000 test samples\n"
     ]
    }
   ],
   "source": [
    "# Re-process the input data for CNNs\n",
    "(x_train, y_train), (x_test, y_test) = datasets.mnist.load_data()\n",
    "\n",
    "# Reshape with channels\n",
    "x_train = x_train.reshape(x_train.shape[0], 28, 28, 1)\n",
    "x_test = x_test.reshape(x_test.shape[0], 28, 28, 1)\n",
    "input_shape = (28, 28, 1)\n",
    "x_train = x_train.astype('float32')\n",
    "x_test = x_test.astype('float32')\n",
    "x_train /= 255\n",
    "x_test /= 255\n",
    "print('x_train shape:', x_train.shape)\n",
    "print(x_train.shape[0], 'train samples')\n",
    "print(x_test.shape[0], 'test samples')"
   ]
  },
  {
   "cell_type": "code",
   "execution_count": 27,
   "metadata": {},
   "outputs": [
    {
     "name": "stdout",
     "output_type": "stream",
     "text": [
      "Epoch 1/10\n",
      "60000/60000 [==============================] - 63s 1ms/step - loss: 0.3144 - acc: 0.9001\n",
      "Epoch 2/10\n",
      "60000/60000 [==============================] - 62s 1ms/step - loss: 0.1053 - acc: 0.9675\n",
      "Epoch 3/10\n",
      "60000/60000 [==============================] - 94s 2ms/step - loss: 0.0770 - acc: 0.9760\n",
      "Epoch 4/10\n",
      "60000/60000 [==============================] - 86s 1ms/step - loss: 0.0646 - acc: 0.9797\n",
      "Epoch 5/10\n",
      "60000/60000 [==============================] - 72s 1ms/step - loss: 0.0561 - acc: 0.9833\n",
      "Epoch 6/10\n",
      "60000/60000 [==============================] - 71s 1ms/step - loss: 0.0495 - acc: 0.9846\n",
      "Epoch 7/10\n",
      "60000/60000 [==============================] - 77s 1ms/step - loss: 0.0443 - acc: 0.9862\n",
      "Epoch 8/10\n",
      "60000/60000 [==============================] - 75s 1ms/step - loss: 0.0422 - acc: 0.9870\n",
      "Epoch 9/10\n",
      "60000/60000 [==============================] - 78s 1ms/step - loss: 0.0391 - acc: 0.9881\n",
      "Epoch 10/10\n",
      "60000/60000 [==============================] - 76s 1ms/step - loss: 0.0381 - acc: 0.9881\n",
      "Test loss: 0.0217773374831173\n",
      "Test accuracy: 0.9921\n"
     ]
    }
   ],
   "source": [
    "# Let's create a simple CNN\n",
    "model = Sequential([\n",
    "    Conv2D(32, kernel_size=(3, 3), activation='relu', input_shape=(28, 28, 1)),\n",
    "    MaxPooling2D(pool_size=(2, 2)),\n",
    "    Dropout(0.25),\n",
    "    Conv2D(64, kernel_size=(3, 3), activation='relu'),\n",
    "    MaxPooling2D(pool_size=(2, 2)),\n",
    "    Dropout(0.25),\n",
    "    Flatten(),\n",
    "    Dense(256, activation='relu'),\n",
    "    Dropout(0.5),\n",
    "    Dense(10, activation='softmax'),\n",
    "])\n",
    "model.compile(loss='sparse_categorical_crossentropy',\n",
    "              optimizer=optimizers.Adadelta(),\n",
    "              metrics=['accuracy'])\n",
    "\n",
    "model.fit(x_train, y_train, batch_size=128, epochs=10)\n",
    "score = model.evaluate(x_test, y_test, verbose=0)\n",
    "print('Test loss:', score[0])\n",
    "print('Test accuracy:', score[1])"
   ]
  },
  {
   "cell_type": "code",
   "execution_count": 28,
   "metadata": {},
   "outputs": [
    {
     "name": "stdout",
     "output_type": "stream",
     "text": [
      "Epoch 1/20\n",
      "60000/60000 [==============================] - 198s 3ms/step - loss: 0.5520 - acc: 0.8143\n",
      "Epoch 2/20\n",
      "60000/60000 [==============================] - 200s 3ms/step - loss: 0.1349 - acc: 0.9587\n",
      "Epoch 3/20\n",
      "60000/60000 [==============================] - 34599s 577ms/step - loss: 0.1014 - acc: 0.9687\n",
      "Epoch 4/20\n",
      "60000/60000 [==============================] - 198s 3ms/step - loss: 0.0844 - acc: 0.9744\n",
      "Epoch 5/20\n",
      "60000/60000 [==============================] - 227s 4ms/step - loss: 0.0715 - acc: 0.9781\n",
      "Epoch 6/20\n",
      "60000/60000 [==============================] - 206s 3ms/step - loss: 0.0633 - acc: 0.9802\n",
      "Epoch 7/20\n",
      "60000/60000 [==============================] - 184s 3ms/step - loss: 0.0604 - acc: 0.9812\n",
      "Epoch 8/20\n",
      "60000/60000 [==============================] - 172s 3ms/step - loss: 0.0522 - acc: 0.9842\n",
      "Epoch 9/20\n",
      "60000/60000 [==============================] - 173s 3ms/step - loss: 0.0491 - acc: 0.9846\n",
      "Epoch 10/20\n",
      "60000/60000 [==============================] - 179s 3ms/step - loss: 0.0461 - acc: 0.9857\n",
      "Epoch 11/20\n",
      "60000/60000 [==============================] - 180s 3ms/step - loss: 0.0423 - acc: 0.9868\n",
      "Epoch 12/20\n",
      "60000/60000 [==============================] - 207s 3ms/step - loss: 0.0403 - acc: 0.9871\n",
      "Epoch 13/20\n",
      "60000/60000 [==============================] - 281s 5ms/step - loss: 0.0378 - acc: 0.9885\n",
      "Epoch 14/20\n",
      "60000/60000 [==============================] - 292s 5ms/step - loss: 0.0359 - acc: 0.9894\n",
      "Epoch 15/20\n",
      "60000/60000 [==============================] - 217s 4ms/step - loss: 0.0360 - acc: 0.9881\n",
      "Epoch 16/20\n",
      "60000/60000 [==============================] - 327s 5ms/step - loss: 0.0326 - acc: 0.9900\n",
      "Epoch 17/20\n",
      "60000/60000 [==============================] - 247s 4ms/step - loss: 0.0310 - acc: 0.9897\n",
      "Epoch 18/20\n",
      "60000/60000 [==============================] - 214s 4ms/step - loss: 0.0303 - acc: 0.9906\n",
      "Epoch 19/20\n",
      "60000/60000 [==============================] - 198s 3ms/step - loss: 0.0278 - acc: 0.9914\n",
      "Epoch 20/20\n",
      "60000/60000 [==============================] - 200s 3ms/step - loss: 0.0284 - acc: 0.9910\n",
      "Test loss: 0.017511308867131446\n",
      "Test accuracy: 0.9938\n"
     ]
    }
   ],
   "source": [
    "# VGG-like CNN\n",
    "model = Sequential([\n",
    "    Conv2D(32, kernel_size=(3, 3), activation='relu', input_shape=(28, 28, 1)),\n",
    "    Conv2D(32, kernel_size=(3, 3), activation='relu'),\n",
    "    MaxPooling2D(pool_size=(2, 2)),\n",
    "    Dropout(0.25),\n",
    "    Conv2D(64, kernel_size=(3, 3), activation='relu'),\n",
    "    Conv2D(64, kernel_size=(3, 3), activation='relu'),\n",
    "    MaxPooling2D(pool_size=(2, 2)),\n",
    "    Dropout(0.25),\n",
    "    Flatten(),\n",
    "    Dense(256, activation='relu'),\n",
    "    Dropout(0.5),\n",
    "    Dense(10, activation='softmax'),\n",
    "])\n",
    "\n",
    "sgd = optimizers.SGD(lr=0.01, decay=1e-6, momentum=0.9, nesterov=True)\n",
    "model.compile(loss='sparse_categorical_crossentropy',\n",
    "              optimizer=sgd, metrics=['accuracy'])\n",
    "\n",
    "tensorboard = TensorBoard(log_dir='./logs')\n",
    "model.fit(x_train, y_train, batch_size=128, epochs=20, callbacks=[tensorboard])\n",
    "score = model.evaluate(x_test, y_test, verbose=0)\n",
    "print('Test loss:', score[0])\n",
    "print('Test accuracy:', score[1])"
   ]
  },
  {
   "cell_type": "code",
   "execution_count": 29,
   "metadata": {},
   "outputs": [
    {
     "data": {
      "text/html": [
       "<div>\n",
       "<style scoped>\n",
       "    .dataframe tbody tr th:only-of-type {\n",
       "        vertical-align: middle;\n",
       "    }\n",
       "\n",
       "    .dataframe tbody tr th {\n",
       "        vertical-align: top;\n",
       "    }\n",
       "\n",
       "    .dataframe thead th {\n",
       "        text-align: right;\n",
       "    }\n",
       "</style>\n",
       "<table border=\"1\" class=\"dataframe\">\n",
       "  <thead>\n",
       "    <tr style=\"text-align: right;\">\n",
       "      <th></th>\n",
       "      <th>0</th>\n",
       "      <th>1</th>\n",
       "      <th>2</th>\n",
       "      <th>3</th>\n",
       "      <th>4</th>\n",
       "      <th>5</th>\n",
       "      <th>6</th>\n",
       "      <th>7</th>\n",
       "      <th>8</th>\n",
       "      <th>9</th>\n",
       "      <th>predicted_class</th>\n",
       "      <th>target_class</th>\n",
       "      <th>correct</th>\n",
       "      <th>error</th>\n",
       "    </tr>\n",
       "  </thead>\n",
       "  <tbody>\n",
       "    <tr>\n",
       "      <th>0</th>\n",
       "      <td>1.836977e-12</td>\n",
       "      <td>1.132842e-10</td>\n",
       "      <td>1.580848e-09</td>\n",
       "      <td>5.842623e-09</td>\n",
       "      <td>1.059530e-11</td>\n",
       "      <td>1.283580e-11</td>\n",
       "      <td>5.733870e-16</td>\n",
       "      <td>1.000000e+00</td>\n",
       "      <td>2.985180e-12</td>\n",
       "      <td>1.413134e-08</td>\n",
       "      <td>7</td>\n",
       "      <td>7</td>\n",
       "      <td>True</td>\n",
       "      <td>0.000000e+00</td>\n",
       "    </tr>\n",
       "    <tr>\n",
       "      <th>1</th>\n",
       "      <td>9.455105e-08</td>\n",
       "      <td>1.173633e-07</td>\n",
       "      <td>9.999998e-01</td>\n",
       "      <td>5.743213e-10</td>\n",
       "      <td>1.023690e-09</td>\n",
       "      <td>8.292774e-12</td>\n",
       "      <td>2.743993e-08</td>\n",
       "      <td>2.868583e-10</td>\n",
       "      <td>1.432258e-09</td>\n",
       "      <td>1.262012e-12</td>\n",
       "      <td>2</td>\n",
       "      <td>2</td>\n",
       "      <td>True</td>\n",
       "      <td>2.384186e-07</td>\n",
       "    </tr>\n",
       "    <tr>\n",
       "      <th>2</th>\n",
       "      <td>2.554338e-08</td>\n",
       "      <td>9.999901e-01</td>\n",
       "      <td>1.288296e-07</td>\n",
       "      <td>1.917088e-09</td>\n",
       "      <td>7.616891e-06</td>\n",
       "      <td>7.202798e-08</td>\n",
       "      <td>4.683262e-07</td>\n",
       "      <td>1.024240e-06</td>\n",
       "      <td>4.801038e-07</td>\n",
       "      <td>2.465872e-08</td>\n",
       "      <td>1</td>\n",
       "      <td>1</td>\n",
       "      <td>True</td>\n",
       "      <td>9.894371e-06</td>\n",
       "    </tr>\n",
       "    <tr>\n",
       "      <th>3</th>\n",
       "      <td>9.999022e-01</td>\n",
       "      <td>3.240032e-10</td>\n",
       "      <td>1.417860e-08</td>\n",
       "      <td>2.974905e-10</td>\n",
       "      <td>5.644659e-09</td>\n",
       "      <td>9.649296e-08</td>\n",
       "      <td>9.553351e-05</td>\n",
       "      <td>7.306501e-09</td>\n",
       "      <td>7.191897e-08</td>\n",
       "      <td>1.906328e-06</td>\n",
       "      <td>0</td>\n",
       "      <td>0</td>\n",
       "      <td>True</td>\n",
       "      <td>9.775162e-05</td>\n",
       "    </tr>\n",
       "    <tr>\n",
       "      <th>4</th>\n",
       "      <td>8.980611e-10</td>\n",
       "      <td>2.894551e-09</td>\n",
       "      <td>6.950660e-10</td>\n",
       "      <td>8.348666e-11</td>\n",
       "      <td>9.999837e-01</td>\n",
       "      <td>2.072418e-09</td>\n",
       "      <td>7.164671e-09</td>\n",
       "      <td>2.791685e-10</td>\n",
       "      <td>5.573174e-08</td>\n",
       "      <td>1.631239e-05</td>\n",
       "      <td>4</td>\n",
       "      <td>4</td>\n",
       "      <td>True</td>\n",
       "      <td>1.633167e-05</td>\n",
       "    </tr>\n",
       "  </tbody>\n",
       "</table>\n",
       "</div>"
      ],
      "text/plain": [
       "              0             1             2             3             4  \\\n",
       "0  1.836977e-12  1.132842e-10  1.580848e-09  5.842623e-09  1.059530e-11   \n",
       "1  9.455105e-08  1.173633e-07  9.999998e-01  5.743213e-10  1.023690e-09   \n",
       "2  2.554338e-08  9.999901e-01  1.288296e-07  1.917088e-09  7.616891e-06   \n",
       "3  9.999022e-01  3.240032e-10  1.417860e-08  2.974905e-10  5.644659e-09   \n",
       "4  8.980611e-10  2.894551e-09  6.950660e-10  8.348666e-11  9.999837e-01   \n",
       "\n",
       "              5             6             7             8             9  \\\n",
       "0  1.283580e-11  5.733870e-16  1.000000e+00  2.985180e-12  1.413134e-08   \n",
       "1  8.292774e-12  2.743993e-08  2.868583e-10  1.432258e-09  1.262012e-12   \n",
       "2  7.202798e-08  4.683262e-07  1.024240e-06  4.801038e-07  2.465872e-08   \n",
       "3  9.649296e-08  9.553351e-05  7.306501e-09  7.191897e-08  1.906328e-06   \n",
       "4  2.072418e-09  7.164671e-09  2.791685e-10  5.573174e-08  1.631239e-05   \n",
       "\n",
       "   predicted_class  target_class  correct         error  \n",
       "0                7             7     True  0.000000e+00  \n",
       "1                2             2     True  2.384186e-07  \n",
       "2                1             1     True  9.894371e-06  \n",
       "3                0             0     True  9.775162e-05  \n",
       "4                4             4     True  1.633167e-05  "
      ]
     },
     "execution_count": 29,
     "metadata": {},
     "output_type": "execute_result"
    }
   ],
   "source": [
    "# Finally, let's take a look at some of the images this gets wrong\n",
    "results = pd.DataFrame(model.predict(x_test))\n",
    "results['predicted_class'] = results.apply(lambda row: row.argmax(), axis=1)\n",
    "results['target_class'] = y_test\n",
    "results['correct'] = results['predicted_class'] == results['target_class']\n",
    "results['error'] = results.apply(lambda row: 1 - row.iloc[row['target_class']], axis=1)\n",
    "results.head()"
   ]
  },
  {
   "cell_type": "code",
   "execution_count": 30,
   "metadata": {},
   "outputs": [
    {
     "data": {
      "text/html": [
       "<div>\n",
       "<style scoped>\n",
       "    .dataframe tbody tr th:only-of-type {\n",
       "        vertical-align: middle;\n",
       "    }\n",
       "\n",
       "    .dataframe tbody tr th {\n",
       "        vertical-align: top;\n",
       "    }\n",
       "\n",
       "    .dataframe thead th {\n",
       "        text-align: right;\n",
       "    }\n",
       "</style>\n",
       "<table border=\"1\" class=\"dataframe\">\n",
       "  <thead>\n",
       "    <tr style=\"text-align: right;\">\n",
       "      <th></th>\n",
       "      <th>0</th>\n",
       "      <th>1</th>\n",
       "      <th>2</th>\n",
       "      <th>3</th>\n",
       "      <th>4</th>\n",
       "      <th>5</th>\n",
       "      <th>6</th>\n",
       "      <th>7</th>\n",
       "      <th>8</th>\n",
       "      <th>9</th>\n",
       "      <th>predicted_class</th>\n",
       "      <th>target_class</th>\n",
       "      <th>correct</th>\n",
       "      <th>error</th>\n",
       "    </tr>\n",
       "  </thead>\n",
       "  <tbody>\n",
       "    <tr>\n",
       "      <th>9729</th>\n",
       "      <td>8.023906e-05</td>\n",
       "      <td>5.790915e-11</td>\n",
       "      <td>9.753242e-10</td>\n",
       "      <td>4.804495e-10</td>\n",
       "      <td>1.980814e-07</td>\n",
       "      <td>0.000173</td>\n",
       "      <td>9.997461e-01</td>\n",
       "      <td>1.620424e-13</td>\n",
       "      <td>7.848241e-07</td>\n",
       "      <td>5.271424e-10</td>\n",
       "      <td>6</td>\n",
       "      <td>5</td>\n",
       "      <td>False</td>\n",
       "      <td>0.999827</td>\n",
       "    </tr>\n",
       "    <tr>\n",
       "      <th>2654</th>\n",
       "      <td>2.070502e-06</td>\n",
       "      <td>9.989054e-01</td>\n",
       "      <td>5.184598e-04</td>\n",
       "      <td>1.074156e-07</td>\n",
       "      <td>2.021168e-04</td>\n",
       "      <td>0.000002</td>\n",
       "      <td>3.638460e-04</td>\n",
       "      <td>9.260866e-07</td>\n",
       "      <td>4.750876e-06</td>\n",
       "      <td>3.892852e-07</td>\n",
       "      <td>1</td>\n",
       "      <td>6</td>\n",
       "      <td>False</td>\n",
       "      <td>0.999636</td>\n",
       "    </tr>\n",
       "    <tr>\n",
       "      <th>2035</th>\n",
       "      <td>2.011448e-11</td>\n",
       "      <td>1.434300e-09</td>\n",
       "      <td>1.873111e-10</td>\n",
       "      <td>9.989725e-01</td>\n",
       "      <td>2.095499e-12</td>\n",
       "      <td>0.001027</td>\n",
       "      <td>4.414664e-12</td>\n",
       "      <td>5.121175e-09</td>\n",
       "      <td>2.418044e-09</td>\n",
       "      <td>1.425756e-08</td>\n",
       "      <td>3</td>\n",
       "      <td>5</td>\n",
       "      <td>False</td>\n",
       "      <td>0.998973</td>\n",
       "    </tr>\n",
       "    <tr>\n",
       "      <th>2597</th>\n",
       "      <td>2.982264e-13</td>\n",
       "      <td>1.813187e-09</td>\n",
       "      <td>9.427288e-11</td>\n",
       "      <td>9.989133e-01</td>\n",
       "      <td>1.000563e-11</td>\n",
       "      <td>0.001087</td>\n",
       "      <td>1.278754e-11</td>\n",
       "      <td>1.473744e-10</td>\n",
       "      <td>1.469136e-07</td>\n",
       "      <td>2.275020e-08</td>\n",
       "      <td>3</td>\n",
       "      <td>5</td>\n",
       "      <td>False</td>\n",
       "      <td>0.998913</td>\n",
       "    </tr>\n",
       "    <tr>\n",
       "      <th>3520</th>\n",
       "      <td>1.106057e-05</td>\n",
       "      <td>4.625294e-07</td>\n",
       "      <td>1.215971e-04</td>\n",
       "      <td>5.266455e-08</td>\n",
       "      <td>9.945710e-01</td>\n",
       "      <td>0.000087</td>\n",
       "      <td>4.056396e-03</td>\n",
       "      <td>3.386167e-06</td>\n",
       "      <td>1.125748e-03</td>\n",
       "      <td>2.359037e-05</td>\n",
       "      <td>4</td>\n",
       "      <td>6</td>\n",
       "      <td>False</td>\n",
       "      <td>0.995944</td>\n",
       "    </tr>\n",
       "  </tbody>\n",
       "</table>\n",
       "</div>"
      ],
      "text/plain": [
       "                 0             1             2             3             4  \\\n",
       "9729  8.023906e-05  5.790915e-11  9.753242e-10  4.804495e-10  1.980814e-07   \n",
       "2654  2.070502e-06  9.989054e-01  5.184598e-04  1.074156e-07  2.021168e-04   \n",
       "2035  2.011448e-11  1.434300e-09  1.873111e-10  9.989725e-01  2.095499e-12   \n",
       "2597  2.982264e-13  1.813187e-09  9.427288e-11  9.989133e-01  1.000563e-11   \n",
       "3520  1.106057e-05  4.625294e-07  1.215971e-04  5.266455e-08  9.945710e-01   \n",
       "\n",
       "             5             6             7             8             9  \\\n",
       "9729  0.000173  9.997461e-01  1.620424e-13  7.848241e-07  5.271424e-10   \n",
       "2654  0.000002  3.638460e-04  9.260866e-07  4.750876e-06  3.892852e-07   \n",
       "2035  0.001027  4.414664e-12  5.121175e-09  2.418044e-09  1.425756e-08   \n",
       "2597  0.001087  1.278754e-11  1.473744e-10  1.469136e-07  2.275020e-08   \n",
       "3520  0.000087  4.056396e-03  3.386167e-06  1.125748e-03  2.359037e-05   \n",
       "\n",
       "      predicted_class  target_class  correct     error  \n",
       "9729                6             5    False  0.999827  \n",
       "2654                1             6    False  0.999636  \n",
       "2035                3             5    False  0.998973  \n",
       "2597                3             5    False  0.998913  \n",
       "3520                4             6    False  0.995944  "
      ]
     },
     "execution_count": 30,
     "metadata": {},
     "output_type": "execute_result"
    }
   ],
   "source": [
    "# \"Most wrong\"\n",
    "results.sort_values('error', ascending=False).head()"
   ]
  },
  {
   "cell_type": "code",
   "execution_count": 31,
   "metadata": {},
   "outputs": [
    {
     "name": "stdout",
     "output_type": "stream",
     "text": [
      "Class = 0\n",
      "Class = 9\n"
     ]
    },
    {
     "data": {
      "text/plain": [
       "<matplotlib.image.AxesImage at 0x1a3f00ceb8>"
      ]
     },
     "execution_count": 31,
     "metadata": {},
     "output_type": "execute_result"
    },
    {
     "data": {
      "image/png": "[encoded data removed]",
      "text/plain": [
       "<Figure size 288x288 with 1 Axes>"
      ]
     },
     "metadata": {},
     "output_type": "display_data"
    },
    {
     "data": {
      "image/png": "[encoded data removed]",
      "text/plain": [
       "<Figure size 288x288 with 1 Axes>"
      ]
     },
     "metadata": {},
     "output_type": "display_data"
    }
   ],
   "source": [
    "print(\"Class =\", y_test[6597])\n",
    "plt.matshow(X_test[6597], cmap=plt.cm.gray)\n",
    "\n",
    "print(\"Class =\", y_test[1901])\n",
    "plt.matshow(X_test[1901], cmap=plt.cm.gray)"
   ]
  },
  {
   "cell_type": "markdown",
   "metadata": {},
   "source": [
    "---"
   ]
  },
  {
   "cell_type": "markdown",
   "metadata": {},
   "source": [
    "## Re-using Keras \"Application\" Models"
   ]
  },
  {
   "cell_type": "code",
   "execution_count": 32,
   "metadata": {},
   "outputs": [],
   "source": [
    "from keras.applications.resnet50 import ResNet50\n",
    "from keras.preprocessing import image\n",
    "from keras.applications.resnet50 import preprocess_input, decode_predictions"
   ]
  },
  {
   "cell_type": "code",
   "execution_count": 33,
   "metadata": {},
   "outputs": [],
   "source": [
    "model = ResNet50(weights='imagenet')"
   ]
  },
  {
   "cell_type": "code",
   "execution_count": 34,
   "metadata": {},
   "outputs": [
    {
     "data": {
      "text/plain": [
       "('elephant.jpg', <http.client.HTTPMessage at 0x1c56ed3630>)"
      ]
     },
     "execution_count": 34,
     "metadata": {},
     "output_type": "execute_result"
    }
   ],
   "source": [
    "# Feel free to replace this with any image!\n",
    "import urllib.request\n",
    "\n",
    "img_path = 'elephant.jpg'\n",
    "image_url = \"https://upload.wikimedia.org/wikipedia/commons/thumb/3/37/African_Bush_Elephant.jpg/220px-African_Bush_Elephant.jpg\"\n",
    "urllib.request.urlretrieve(image_url, img_path)"
   ]
  },
  {
   "cell_type": "code",
   "execution_count": 35,
   "metadata": {},
   "outputs": [
    {
     "name": "stdout",
     "output_type": "stream",
     "text": [
      "Predicted: [('n02504458', 'African_elephant', 0.9400476), ('n01871265', 'tusker', 0.051104456), ('n02504013', 'Indian_elephant', 0.008361387)]\n"
     ]
    }
   ],
   "source": [
    "img = image.load_img(img_path, target_size=(224, 224))\n",
    "x = image.img_to_array(img)\n",
    "x = np.expand_dims(x, axis=0)\n",
    "x = preprocess_input(x)\n",
    "\n",
    "preds = model.predict(x)\n",
    "# Decode the results into a list of tuples (class, description, probability)\n",
    "print('Predicted:', decode_predictions(preds, top=3)[0])"
   ]
  }
 ],
 "metadata": {
  "kernelspec": {
   "display_name": "Python (conda base)",
   "language": "python",
   "name": "base"
  },
  "language_info": {
   "codemirror_mode": {
    "name": "ipython",
    "version": 3
   },
   "file_extension": ".py",
   "mimetype": "text/x-python",
   "name": "python",
   "nbconvert_exporter": "python",
   "pygments_lexer": "ipython3",
   "version": "3.6.5"
  }
 },
 "nbformat": 4,
 "nbformat_minor": 1
}
